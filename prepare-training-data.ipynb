{
 "cells": [
  {
   "cell_type": "code",
   "execution_count": null,
   "metadata": {
    "collapsed": true
   },
   "outputs": [],
   "source": [
    "from scipy import misc\n",
    "from scipy.stats import describe\n",
    "import numpy as np\n",
    "import matplotlib.pyplot as plt\n",
    "import matplotlib.cm as cm\n",
    "%matplotlib inline\n",
    "\n",
    "from sklearn.preprocessing import LabelEncoder\n",
    "\n",
    "from os import listdir\n",
    "from os.path import isfile, join"
   ]
  },
  {
   "cell_type": "code",
   "execution_count": null,
   "metadata": {
    "collapsed": true
   },
   "outputs": [],
   "source": [
    "#image_path = '../images/resized_20x20_processed/processed/'\n",
    "image_path = '../images/resized_20x20/'\n",
    "file_list = [f for f in listdir(image_path) if isfile(join(image_path, f))]"
   ]
  },
  {
   "cell_type": "code",
   "execution_count": null,
   "metadata": {
    "collapsed": true
   },
   "outputs": [],
   "source": [
    "def get_class(filename):\n",
    "    sep = \"c_\"\n",
    "    return filename[:filename.find(sep)+1]"
   ]
  },
  {
   "cell_type": "code",
   "execution_count": null,
   "metadata": {
    "scrolled": true
   },
   "outputs": [],
   "source": [
    "pixel_data = []\n",
    "label_data = []\n",
    "le = LabelEncoder()\n",
    "le.fit(sorted(['alpha_lc', 'alpha_uc',\n",
    "               'beta_lc', 'beta_uc',\n",
    "               'gamma_lc', 'gamma_uc',\n",
    "               'delta_lc', 'delta_uc',\n",
    "               'epsilon_lc', 'epsilon_uc',\n",
    "               'zeta_lc', 'zeta_uc',\n",
    "               'eta_lc', 'eta_uc',\n",
    "               'theta_lc', 'theta_uc',\n",
    "               'iota_lc', 'iota_uc',\n",
    "               'kappa_lc', 'kappa_uc',\n",
    "               'lambda_lc', 'lambda_uc',\n",
    "               'mu_lc', 'mu_uc',\n",
    "               'nu_lc', 'nu_uc',\n",
    "               'xi_lc', 'xi_uc',\n",
    "               'omicron_lc', 'omicron_uc',\n",
    "               'pi_lc', 'pi_uc',\n",
    "               'rho_lc', 'rho_uc',\n",
    "               'sigma_lc', 'sigma_uc',\n",
    "               'tau_lc', 'tau_uc',\n",
    "               'upsilon_lc', 'upsilon_uc',\n",
    "               'phi_lc', 'phi_uc',\n",
    "               'chi_lc', 'chi_uc',\n",
    "               'psi_lc', 'psi_uc',\n",
    "               'omega_lc', 'omega_uc'\n",
    "              ])) # we need to bring it in order because the file list from OS is also ordered\n",
    "\n",
    "for file in file_list:\n",
    "    if(file[0] != \".\"):\n",
    "        image = misc.imread(image_path + file)\n",
    "        image = image[:,:,3] # only get the values from the third dimension (grey intensities)\n",
    "        pixel_data.append(image)\n",
    "        label_data.append(get_class(file)) #alpha_lc, beta_lc, ...\n",
    "        #plt.imshow(image, cmap=cm.Greys_r)\n",
    "        #plt.show()\n",
    "    \n",
    "label_data_transformed = le.transform(label_data)"
   ]
  },
  {
   "cell_type": "code",
   "execution_count": null,
   "metadata": {
    "collapsed": true
   },
   "outputs": [],
   "source": [
    "pixel_data = np.asarray(pixel_data)\n",
    "pixel_data = np.reshape(pixel_data, (pixel_data.shape[0],pixel_data.shape[1]*pixel_data.shape[2])) #reshape to 400 dimensions (from 20x20)"
   ]
  },
  {
   "cell_type": "code",
   "execution_count": null,
   "metadata": {
    "collapsed": true
   },
   "outputs": [],
   "source": [
    "np.save('pixel_data.npy',pixel_data)\n",
    "np.save('label_data.npy',label_data_transformed)"
   ]
  },
  {
   "cell_type": "code",
   "execution_count": null,
   "metadata": {},
   "outputs": [],
   "source": [
    "class_distribution = np.unique(label_data, return_counts=True)\n",
    "class_labels = class_distribution[0]\n",
    "class_count = class_distribution[1]\n",
    "\n",
    "for l, c in sorted(zip(class_labels,class_count),key=lambda x: x[1], reverse=True):\n",
    "    print(l, c)"
   ]
  },
  {
   "cell_type": "code",
   "execution_count": null,
   "metadata": {},
   "outputs": [],
   "source": [
    "class_labels"
   ]
  }
 ],
 "metadata": {
  "kernelspec": {
   "display_name": "Python 3",
   "language": "python",
   "name": "python3"
  },
  "language_info": {
   "codemirror_mode": {
    "name": "ipython",
    "version": 3
   },
   "file_extension": ".py",
   "mimetype": "text/x-python",
   "name": "python",
   "nbconvert_exporter": "python",
   "pygments_lexer": "ipython3",
   "version": "3.5.2"
  }
 },
 "nbformat": 4,
 "nbformat_minor": 2
}
